{
 "cells": [
  {
   "cell_type": "code",
   "execution_count": 21,
   "metadata": {},
   "outputs": [
    {
     "name": "stdout",
     "output_type": "stream",
     "text": [
      "The autoreload extension is already loaded. To reload it, use:\n",
      "  %reload_ext autoreload\n"
     ]
    }
   ],
   "source": [
    "%load_ext autoreload\n",
    "%autoreload 2\n",
    "\n",
    "import numpy as np\n",
    "import util\n",
    "\n",
    "import warnings\n",
    "warnings.filterwarnings('ignore')"
   ]
  },
  {
   "cell_type": "code",
   "execution_count": 43,
   "metadata": {},
   "outputs": [],
   "source": [
    "# Tasic dataset\n",
    "\n",
    "identities = np.load('../data/tasic/iden-tasic.npy')\n",
    "ss_data = np.load('../data/tasic/npdata-tasic.npy')\n",
    "\n",
    "ss_data = np.transpose(ss_data)\n",
    "combined = [(identities[i], ss_data[i]) for i in range(len(identities))]\n",
    "\n",
    "# Group by cluster identity\n",
    "combined.sort(key=lambda x: x[0])\n",
    "ss_data = np.array([x[1] for x in combined])\n",
    "\n",
    "# Log normalize\n",
    "ss_data = np.log(ss_data + 1)\n",
    "\n",
    "# Get cluster sizes \n",
    "cluster_sizes = [0] * int(max(identities) + 1)\n",
    "for i, v in enumerate(identities):\n",
    "    cluster_sizes[int(v)] += 1\n",
    "\n",
    "# Get compressibility with first 10 PCs\n",
    "C, avg_inter_tasic, avg_intra_tasic = util.get_compressibility(ss_data, cluster_sizes, 10, seq=True)"
   ]
  },
  {
   "cell_type": "code",
   "execution_count": 46,
   "metadata": {},
   "outputs": [
    {
     "name": "stdout",
     "output_type": "stream",
     "text": [
      "[1.70394092 2.43997804 1.86283541 2.43339189 1.75709956 2.0138611\n",
      " 1.69034742 2.32287857]\n",
      "[ 8.24586712  4.21065732  7.73153907  4.13706243  7.82577833 10.51190154\n",
      " 10.57733006  2.53632435]\n",
      "2.028041613807816\n",
      "6.972057528782857\n"
     ]
    }
   ],
   "source": [
    "print(avg_inter_tasic)\n",
    "print(avg_intra_tasic)\n",
    "print(np.mean(avg_inter_tasic))\n",
    "print(np.mean(avg_intra_tasic))"
   ]
  },
  {
   "cell_type": "code",
   "execution_count": 47,
   "metadata": {},
   "outputs": [],
   "source": [
    "intra_compress = [avg_intra_tasic[i] * cluster_sizes[i] * (cluster_sizes[i] - 1) for i in range(len(avg_intra_tasic))]\n",
    "inter_compress = [avg_inter_tasic[i] * cluster_sizes[i] * (sum(cluster_sizes) - cluster_sizes[i]) for i in range(len(avg_inter_tasic))]"
   ]
  },
  {
   "cell_type": "code",
   "execution_count": 48,
   "metadata": {},
   "outputs": [],
   "source": [
    "comb = [x * (x - 1) for x in cluster_sizes]\n",
    "comb2 = [x * (sum(cluster_sizes) - x) for x in cluster_sizes]"
   ]
  },
  {
   "cell_type": "code",
   "execution_count": 56,
   "metadata": {},
   "outputs": [
    {
     "name": "stdout",
     "output_type": "stream",
     "text": [
      "2.341184247254701\n",
      "4.179817045377\n"
     ]
    }
   ],
   "source": [
    "print(np.sum(inter_compress) / np.sum(comb2))\n",
    "print(np.sum(intra_compress) / np.sum(comb))"
   ]
  },
  {
   "cell_type": "code",
   "execution_count": 54,
   "metadata": {},
   "outputs": [],
   "source": [
    "# Duo et al. datasets\n",
    "dspath=['../data/Koh/koh.h5ad','../data/Kumar/kumar.h5ad', '../data/simkumar/simkumar4easy.h5ad','../data/simkumar/simkumar4hard.h5ad','../data/simkumar/simkumar8hard.h5ad','../data/Trapnell/trapnell.h5ad','../data/zheng/sce_full_Zhengmix4eq.h5ad','../data/zheng/sce_full_Zhengmix4uneq.h5ad','../data/zheng/sce_full_Zhengmix8eq.h5ad']\n",
    "dsname=['Koh','Kumar','simkumar4easy','simkumar4hard','simkumar8hard','Trapnell','Zheng4eq','Zheng4uneq','Zheng8eq']\n",
    "\n",
    "def process(data,cs,labels,dimension,fix_ch):\n",
    "    C, avg_inter, avg_intra = util.get_compressibility(data, cs, dimension, reduce_dim=True, seq=True)\n",
    "    \n",
    "    print(avg_inter)\n",
    "    print(avg_intra)\n",
    "    print(np.mean(avg_inter))\n",
    "    print(np.mean(avg_intra))\n",
    "\n",
    "    comb = [x * (x - 1) for x in cs]\n",
    "    comb2 = [x * (sum(cs) - x) for x in cs]\n",
    "\n",
    "    intra_compress = [avg_intra[i] * cs[i] * (cs[i] - 1) for i in range(len(avg_intra))]\n",
    "    inter_compress = [avg_inter[i] * cs[i] * (sum(cs) - cs[i]) for i in range(len(avg_inter))]\n",
    "    print(np.sum(inter_compress) / np.sum(comb2))\n",
    "    print(np.sum(intra_compress) / np.sum(comb))"
   ]
  },
  {
   "cell_type": "code",
   "execution_count": 55,
   "metadata": {},
   "outputs": [
    {
     "name": "stdout",
     "output_type": "stream",
     "text": [
      "Koh\n",
      "[2.38896511 2.49758144 2.65013279 2.47731001 2.48533099 2.89492615\n",
      " 2.32211225 2.60024809 2.00142873]\n",
      "[7.3149614  9.17370346 6.40218809 5.76634565 6.14379324 8.02608899\n",
      " 6.34435389 6.99869275 7.06631549]\n",
      "2.479781728670819\n",
      "7.026271441008337\n",
      "2.4591391070288227\n",
      "6.834903059882185\n",
      "\n",
      "Kumar\n",
      "[2.01377167 1.9041688  1.51138835]\n",
      "[10.94612409  8.73087202 10.34746097]\n",
      "1.8097762751465822\n",
      "10.008152359782665\n",
      "1.8213756365746636\n",
      "9.850538074623607\n",
      "\n",
      "simkumar4easy\n",
      "[3.39515966 3.30827046 3.07721169 2.80944844]\n",
      "[14.09592463 14.59219633 13.54697101 13.2656434 ]\n",
      "3.147522560576424\n",
      "13.87518384237309\n",
      "3.07835491307922\n",
      "13.568106243859708\n",
      "\n",
      "simkumar4hard\n",
      "[4.92631478 4.53597503 4.66258449 4.3331671 ]\n",
      "[12.47330674 14.27119879 12.32181331 11.77220617]\n",
      "4.614510346576734\n",
      "12.709631251632945\n",
      "4.618550315210353\n",
      "12.329185164625859\n",
      "\n",
      "simkumar8hard\n",
      "[4.31808964 4.45923483 4.24690334 3.96011005 4.26250373 3.93207221\n",
      " 3.92825694 3.6124513 ]\n",
      "[8.49811361 9.59935225 8.01092148 7.66473021 8.43577178 8.70695602\n",
      " 7.96468426 9.89330056]\n",
      "4.089952754441132\n",
      "8.596728771758794\n",
      "4.162084455120994\n",
      "8.445643467342423\n",
      "\n",
      "Trapnell\n",
      "[3.60363642 4.82266037 4.69150873]\n",
      "[5.91345287 6.23217269 6.16426569]\n",
      "4.372601841062997\n",
      "6.103297085885004\n",
      "4.374343229488006\n",
      "6.1043932143268105\n",
      "\n",
      "Zheng4eq\n",
      "[2.01975464 1.69410855 2.25249783 2.32131858]\n",
      "[5.35644764 5.28856213 6.77968191 5.27254624]\n",
      "2.0719199008907934\n",
      "5.674309482720323\n",
      "2.0717434598173914\n",
      "5.6739646021123455\n",
      "\n",
      "Zheng4uneq\n",
      "[1.93054641 1.70822931 2.40846553 2.02963293]\n",
      "[5.05639709 5.28639668 6.44730256 4.78330915]\n",
      "2.019218545022573\n",
      "5.393351369798925\n",
      "1.9474487781933463\n",
      "4.972981638181447\n",
      "\n",
      "Zheng8eq\n",
      "[1.9603627  2.78762487 1.64419425 1.92251382 2.50637608 2.53011358\n",
      " 2.66853028 2.61410304]\n",
      "[3.96569111 4.22698042 4.13567866 4.72534676 3.99712568 5.15235879\n",
      " 4.61914098 3.92336512]\n",
      "2.329227327272015\n",
      "4.343210940598728\n",
      "2.291660836346375\n",
      "4.321808646382215\n",
      "\n"
     ]
    }
   ],
   "source": [
    "for i in range(9):\n",
    "    data, cs, labels = util.initiate(fix_ch=i, dsname=dsname, dspath=dspath)\n",
    "    k = len(cs)\n",
    "    print(dsname[i], end='\\n')\n",
    "    process(data,cs,labels,k,i)\n",
    "    print()"
   ]
  }
 ],
 "metadata": {
  "kernelspec": {
   "display_name": "venv",
   "language": "python",
   "name": "python3"
  },
  "language_info": {
   "codemirror_mode": {
    "name": "ipython",
    "version": 3
   },
   "file_extension": ".py",
   "mimetype": "text/x-python",
   "name": "python",
   "nbconvert_exporter": "python",
   "pygments_lexer": "ipython3",
   "version": "3.10.0"
  }
 },
 "nbformat": 4,
 "nbformat_minor": 2
}
