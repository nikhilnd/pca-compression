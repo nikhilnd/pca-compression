{
 "cells": [
  {
   "cell_type": "code",
   "execution_count": 1,
   "metadata": {},
   "outputs": [],
   "source": [
    "import numpy as np\n",
    "from tqdm import tqdm\n",
    "from sklearn.decomposition import PCA"
   ]
  },
  {
   "cell_type": "code",
   "execution_count": 3,
   "metadata": {},
   "outputs": [],
   "source": [
    "# Read data\n",
    "cluster_identities = np.load('../data/iden-tasic.npy')\n",
    "ss_data = np.load('../data/npdata-tasic.npy')"
   ]
  },
  {
   "cell_type": "code",
   "execution_count": 4,
   "metadata": {},
   "outputs": [
    {
     "name": "stdout",
     "output_type": "stream",
     "text": [
      "[[0.000000e+00 0.000000e+00 0.000000e+00 ... 8.000000e+00 9.000000e+00\n",
      "  5.000000e+00]\n",
      " [9.920000e+02 2.287020e+03 4.917800e+02 ... 9.564000e+02 1.054940e+03\n",
      "  9.440300e+02]\n",
      " [2.570000e+00 1.770000e+02 0.000000e+00 ... 1.251000e+03 1.356200e+03\n",
      "  1.147000e+03]\n",
      " ...\n",
      " [3.093120e+04 1.055400e+04 1.604990e+03 ... 5.272786e+04 5.013316e+04\n",
      "  4.871428e+04]\n",
      " [3.648590e+03 2.773930e+03 1.120420e+03 ... 0.000000e+00 0.000000e+00\n",
      "  0.000000e+00]\n",
      " [3.648590e+03 2.773930e+03 1.120420e+03 ... 0.000000e+00 0.000000e+00\n",
      "  0.000000e+00]]\n"
     ]
    }
   ],
   "source": [
    "print(ss_data)"
   ]
  },
  {
   "cell_type": "code",
   "execution_count": 5,
   "metadata": {},
   "outputs": [],
   "source": [
    "ss_data = np.transpose(ss_data)\n",
    "combined = [(cluster_identities[i], ss_data[i]) for i in range(len(cluster_identities))]\n",
    "\n",
    "# Sort by cluster identity\n",
    "combined.sort(key=lambda x: x[0])\n",
    "ss_data = np.array([x[1] for x in combined])"
   ]
  },
  {
   "cell_type": "code",
   "execution_count": 10,
   "metadata": {},
   "outputs": [
    {
     "data": {
      "text/plain": [
       "(1809, 24057)"
      ]
     },
     "execution_count": 10,
     "metadata": {},
     "output_type": "execute_result"
    }
   ],
   "source": [
    "ss_data.shape"
   ]
  },
  {
   "cell_type": "code",
   "execution_count": 6,
   "metadata": {},
   "outputs": [
    {
     "name": "stdout",
     "output_type": "stream",
     "text": [
      "(43, 24057)\n",
      "(761, 24057)\n",
      "(29, 24057)\n",
      "(812, 24057)\n",
      "(38, 24057)\n",
      "(22, 24057)\n",
      "(22, 24057)\n",
      "(82, 24057)\n",
      "24057\n"
     ]
    },
    {
     "name": "stderr",
     "output_type": "stream",
     "text": [
      "100%|██████████| 8/8 [00:13<00:00,  1.64s/it]"
     ]
    },
    {
     "name": "stdout",
     "output_type": "stream",
     "text": [
      "[500.45033793 495.76182495 481.74488755 490.94777105 511.90006057\n",
      " 512.32369049 488.99988448 525.03020352]\n"
     ]
    },
    {
     "name": "stderr",
     "output_type": "stream",
     "text": [
      "\n"
     ]
    }
   ],
   "source": [
    "# Transpose ss_data\n",
    "ss_data=np.log2(1+ss_data)\n",
    "\n",
    "# d = 24057\n",
    "# Total data points = 1809\n",
    "\n",
    "# Create empty numpy array\n",
    "cluster_groupings = [[] for i in range(int(max(cluster_identities)) + 1)]\n",
    "\n",
    "# Populate cluster_groupings\n",
    "for i, v in enumerate(cluster_identities):\n",
    "    cluster_groupings[int(v)].append(ss_data[i])\n",
    "\n",
    "for i in range(len(cluster_groupings)):\n",
    "    cluster_groupings[i] = np.array(cluster_groupings[i])\n",
    "    print(cluster_groupings[i].shape)\n",
    "\n",
    "# Compute average intracluster euclidean distance\n",
    "avg_intracluster_euclidean_distance = np.zeros(len(cluster_groupings))\n",
    "print(len(cluster_groupings[0][0]))\n",
    "for i in tqdm(range(len(cluster_groupings))):\n",
    "    for j in range(len(cluster_groupings[i])):\n",
    "        for l in range(j + 1, len(cluster_groupings[i])):\n",
    "            avg_intracluster_euclidean_distance[i] += np.linalg.norm(cluster_groupings[i][j] - cluster_groupings[i][l])\n",
    "    \n",
    "    avg_intracluster_euclidean_distance[i] /= ((len(cluster_groupings[i]) * (len(cluster_groupings[i]) - 1)) / 2)\n",
    "\n",
    "print(avg_intracluster_euclidean_distance)"
   ]
  },
  {
   "cell_type": "code",
   "execution_count": 7,
   "metadata": {},
   "outputs": [
    {
     "name": "stderr",
     "output_type": "stream",
     "text": [
      "100%|██████████| 1809/1809 [01:07<00:00, 26.77it/s]\n"
     ]
    }
   ],
   "source": [
    "# Compute euclidean distances for ss_data matrix\n",
    "D = np.zeros((ss_data.shape[0], ss_data.shape[0]))\n",
    "for i in tqdm(range(ss_data.shape[0])):\n",
    "    for j in range(ss_data.shape[0]):\n",
    "        D[i, j] = np.linalg.norm(ss_data[i] - ss_data[j])"
   ]
  },
  {
   "cell_type": "code",
   "execution_count": 7,
   "metadata": {},
   "outputs": [
    {
     "data": {
      "text/plain": [
       "array([[   0.        ,  437.8842891 ,  447.82192423, ...,  969.7349507 ,\n",
       "         979.4509916 ,  965.82089981],\n",
       "       [ 437.8842891 ,    0.        ,  447.7483086 , ..., 1010.97231237,\n",
       "        1020.70639096, 1007.1668236 ],\n",
       "       [ 447.82192423,  447.7483086 ,    0.        , ...,  958.50797821,\n",
       "         967.98944063,  954.81258052],\n",
       "       ...,\n",
       "       [ 969.7349507 , 1010.97231237,  958.50797821, ...,    0.        ,\n",
       "          78.14920337,   77.72513778],\n",
       "       [ 979.4509916 , 1020.70639096,  967.98944063, ...,   78.14920337,\n",
       "           0.        ,   76.33680148],\n",
       "       [ 965.82089981, 1007.1668236 ,  954.81258052, ...,   77.72513778,\n",
       "          76.33680148,    0.        ]])"
      ]
     },
     "execution_count": 7,
     "metadata": {},
     "output_type": "execute_result"
    }
   ],
   "source": [
    "D"
   ]
  },
  {
   "cell_type": "code",
   "execution_count": 8,
   "metadata": {},
   "outputs": [],
   "source": [
    "pca_dim=10\n",
    "\n",
    "pca = PCA(n_components=pca_dim)\n",
    "pca.fit(ss_data)\n",
    "\n",
    "ss_data_pca = pca.transform(ss_data)\n",
    "\n",
    "d = ss_data_pca.shape[1]\n",
    "k = int(max(cluster_identities)) + 1"
   ]
  },
  {
   "cell_type": "code",
   "execution_count": 9,
   "metadata": {},
   "outputs": [
    {
     "name": "stderr",
     "output_type": "stream",
     "text": [
      "100%|██████████| 1809/1809 [00:07<00:00, 256.00it/s]\n"
     ]
    }
   ],
   "source": [
    "# Compute euclidean distances for ss_data_pca matrix\n",
    "D_pca = np.zeros((ss_data_pca.shape[0], ss_data_pca.shape[0]))\n",
    "for i in tqdm(range(ss_data_pca.shape[0])):\n",
    "    for j in range(ss_data_pca.shape[0]):\n",
    "        D_pca[i, j] = np.linalg.norm(ss_data_pca[i] - ss_data_pca[j])"
   ]
  },
  {
   "cell_type": "code",
   "execution_count": 10,
   "metadata": {},
   "outputs": [
    {
     "name": "stderr",
     "output_type": "stream",
     "text": [
      "/var/folders/p0/nb5t36rs6p5_2b9yzyw6y8hw0000gn/T/ipykernel_2755/2036273729.py:1: RuntimeWarning: invalid value encountered in divide\n",
      "  C = D / D_pca\n"
     ]
    }
   ],
   "source": [
    "C = D / D_pca"
   ]
  },
  {
   "cell_type": "code",
   "execution_count": 11,
   "metadata": {},
   "outputs": [],
   "source": [
    "avg_intracluster_compression = np.zeros(k)\n",
    "avg_intercluster_compression = np.zeros(k)\n",
    "for i in range(k):\n",
    "    before = 0 \n",
    "    for j in range(i): \n",
    "        before += len(cluster_groupings[j])\n",
    "\n",
    "    for j in range(before, before + len(cluster_groupings[i])): \n",
    "        for l in range(before, before + len(cluster_groupings[i])):\n",
    "            if j == l: \n",
    "                continue \n",
    "            avg_intracluster_compression[i] += C[j, l]\n",
    "    \n",
    "        t1 = range(before, before + len(cluster_groupings[i]))\n",
    "        t2 = range(ss_data.shape[0])\n",
    "        t3 = set(t2).difference(set(t1))\n",
    "\n",
    "        for l in list(t3):\n",
    "            avg_intercluster_compression[i] += C[j, l]\n",
    "\n",
    "for i in range(k):\n",
    "    avg_intracluster_compression[i] /= (len(cluster_groupings[i]) * (len(cluster_groupings[i]) - 1))\n",
    "    avg_intercluster_compression[i] /= (len(cluster_groupings[i]) * (len(ss_data) - len(cluster_groupings[i])))"
   ]
  },
  {
   "cell_type": "code",
   "execution_count": 12,
   "metadata": {},
   "outputs": [
    {
     "data": {
      "text/plain": [
       "array([1.70399175, 2.44000071, 1.8627358 , 2.43341196, 1.75703156,\n",
       "       2.01368342, 1.69025103, 2.32285175])"
      ]
     },
     "execution_count": 12,
     "metadata": {},
     "output_type": "execute_result"
    }
   ],
   "source": [
    "avg_intercluster_compression"
   ]
  },
  {
   "cell_type": "code",
   "execution_count": 13,
   "metadata": {},
   "outputs": [
    {
     "data": {
      "text/plain": [
       "array([ 8.24624324,  4.21068353,  7.73128523,  4.13720822,  7.82414889,\n",
       "       10.51097107, 10.57621174,  2.53620485])"
      ]
     },
     "execution_count": 13,
     "metadata": {},
     "output_type": "execute_result"
    }
   ],
   "source": [
    "avg_intracluster_compression"
   ]
  },
  {
   "cell_type": "code",
   "execution_count": 14,
   "metadata": {},
   "outputs": [],
   "source": [
    "from utils import get_average_compression, get_distance_matrix"
   ]
  },
  {
   "cell_type": "code",
   "execution_count": 15,
   "metadata": {},
   "outputs": [
    {
     "data": {
      "text/plain": [
       "[43, 761, 29, 812, 38, 22, 22, 82]"
      ]
     },
     "execution_count": 15,
     "metadata": {},
     "output_type": "execute_result"
    }
   ],
   "source": [
    "cluster_sizes = [len(cluster_groupings[i]) for i in range(len(cluster_groupings))]\n",
    "cluster_sizes"
   ]
  },
  {
   "cell_type": "code",
   "execution_count": 16,
   "metadata": {},
   "outputs": [],
   "source": [
    "def cgraph(X, dim):\n",
    "    \"\"\"\n",
    "    Calculate PCA compressibility of all pairs of X\n",
    "    \"\"\"\n",
    "    pca = PCA(n_components=dim)\n",
    "    pca.fit(X)\n",
    "    X_pca = pca.transform(X)\n",
    "    D_pre = get_distance_matrix(X)\n",
    "    D_post = get_distance_matrix(X_pca)\n",
    "    C = D_pre / D_post\n",
    "\n",
    "    # Make n^2 x 2 matrix of all pairs of points with 0 if intercluster and 1 if intracluster\n",
    "    size = (len(C) * (len(C) - 1)) / 2\n",
    "    res = np.zeros((int(size), 2))\n",
    "    next = 0\n",
    "    for i in tqdm(range(len(C))): \n",
    "\n",
    "        i_cluster = 0\n",
    "        running = 0 \n",
    "        while running <= i: \n",
    "            running += cluster_sizes[i_cluster]\n",
    "            i_cluster += 1\n",
    "        i_cluster -= 1\n",
    "\n",
    "        for j in range(i + 1, len(C)): \n",
    "\n",
    "            j_cluster = 0\n",
    "            running = 0\n",
    "            while running <= j: \n",
    "                running += cluster_sizes[j_cluster]\n",
    "                j_cluster += 1\n",
    "            j_cluster -= 1\n",
    "\n",
    "            res[next] = [C[i][j], 0 if i_cluster == j_cluster else 1]\n",
    "            next += 1\n",
    "    \n",
    "    return res"
   ]
  },
  {
   "cell_type": "code",
   "execution_count": 17,
   "metadata": {},
   "outputs": [
    {
     "name": "stderr",
     "output_type": "stream",
     "text": [
      "/var/folders/p0/nb5t36rs6p5_2b9yzyw6y8hw0000gn/T/ipykernel_2755/1512989884.py:10: RuntimeWarning: invalid value encountered in divide\n",
      "  C = D_pre / D_post\n",
      "100%|██████████| 1809/1809 [00:00<00:00, 1987.25it/s]\n"
     ]
    }
   ],
   "source": [
    "res = cgraph(ss_data, 10)"
   ]
  },
  {
   "cell_type": "code",
   "execution_count": 18,
   "metadata": {},
   "outputs": [
    {
     "data": {
      "text/plain": [
       "array([[ 6.85319582,  0.        ],\n",
       "       [18.15355115,  0.        ],\n",
       "       [ 7.39855948,  0.        ],\n",
       "       ...,\n",
       "       [ 7.0199649 ,  0.        ],\n",
       "       [15.72690078,  0.        ],\n",
       "       [ 5.29158781,  0.        ]])"
      ]
     },
     "execution_count": 18,
     "metadata": {},
     "output_type": "execute_result"
    }
   ],
   "source": [
    "res"
   ]
  },
  {
   "cell_type": "code",
   "execution_count": 22,
   "metadata": {},
   "outputs": [],
   "source": [
    "res = res[res[:,0].argsort()]"
   ]
  },
  {
   "cell_type": "code",
   "execution_count": 23,
   "metadata": {},
   "outputs": [],
   "source": [
    "from matplotlib import pyplot as plt"
   ]
  },
  {
   "cell_type": "code",
   "execution_count": 26,
   "metadata": {},
   "outputs": [
    {
     "data": {
      "image/png": "[encoded data removed]",
      "text/plain": [
       "<Figure size 640x480 with 1 Axes>"
      ]
     },
     "metadata": {},
     "output_type": "display_data"
    }
   ],
   "source": [
    "# Plot values from test colored if inter or intra cluster, x axis is index\n",
    "plt.scatter(range(len(res)), res[:, 0], c=res[:, 1])\n",
    "# Set vertical scale to be logarithmic\n",
    "plt.yscale('log')\n",
    "# Zoom out horizontal scale\n",
    "plt.xlim(-100, len(res) + 100)\n",
    "plt.show()"
   ]
  },
  {
   "cell_type": "code",
   "execution_count": null,
   "metadata": {},
   "outputs": [],
   "source": []
  }
 ],
 "metadata": {
  "kernelspec": {
   "display_name": "venv",
   "language": "python",
   "name": "python3"
  },
  "language_info": {
   "codemirror_mode": {
    "name": "ipython",
    "version": 3
   },
   "file_extension": ".py",
   "mimetype": "text/x-python",
   "name": "python",
   "nbconvert_exporter": "python",
   "pygments_lexer": "ipython3",
   "version": "3.10.0"
  },
  "orig_nbformat": 4
 },
 "nbformat": 4,
 "nbformat_minor": 2
}
