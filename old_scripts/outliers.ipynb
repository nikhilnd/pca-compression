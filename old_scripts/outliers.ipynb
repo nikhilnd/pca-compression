{
 "cells": [
  {
   "cell_type": "code",
   "execution_count": 2,
   "metadata": {},
   "outputs": [],
   "source": [
    "import numpy as np\n",
    "from tqdm import tqdm \n",
    "from sklearn.decomposition import PCA\n",
    "from utils import get_distance_matrix, get_average_compression"
   ]
  },
  {
   "cell_type": "code",
   "execution_count": 3,
   "metadata": {},
   "outputs": [],
   "source": [
    "def sample_spherical(npoints, ndim):\n",
    "    vec = np.random.randn(ndim, npoints)\n",
    "    vec /= np.linalg.norm(vec, axis=0)\n",
    "    vec *= np.random.randint(10, 500)\n",
    "\n",
    "    return vec"
   ]
  },
  {
   "cell_type": "code",
   "execution_count": 4,
   "metadata": {},
   "outputs": [],
   "source": [
    "def sample_normal(npoints, ndim=3, mu=0, sigma=1): \n",
    "    vec = np.random.normal(mu, sigma, (npoints, ndim))\n",
    "    vec /= np.linalg.norm(vec, axis=0)\n",
    "    return vec"
   ]
  },
  {
   "cell_type": "code",
   "execution_count": 5,
   "metadata": {},
   "outputs": [],
   "source": [
    "# Number of clusters\n",
    "k = 3\n",
    "# Points per cluster\n",
    "# n = 750\n",
    "n = [1000, 750, 500]\n",
    "# Number of dimensions\n",
    "d = 100"
   ]
  },
  {
   "cell_type": "code",
   "execution_count": 6,
   "metadata": {},
   "outputs": [
    {
     "data": {
      "text/plain": [
       "array([[ 0.,  0.,  0.,  0.,  0.,  0.,  0.,  0.,  0.,  0.,  0.,  0.,  0.,\n",
       "         0.,  0.,  0.,  0.,  0.,  0.,  0.,  0.,  0.,  0.,  0.,  0.,  0.,\n",
       "         0.,  0.,  0.,  0.,  0.,  0.,  0.,  0.,  0.,  0.,  0.,  0.,  0.,\n",
       "         0.,  0.,  0.,  0.,  0.,  0.,  0.,  0.,  0.,  0.,  0.,  0.,  0.,\n",
       "         0.,  0.,  0.,  0.,  0.,  0.,  0.,  0.,  0.,  0.,  0.,  0.,  0.,\n",
       "         0.,  0.,  0.,  0.,  0.,  0.,  0.,  0.,  0.,  0.,  0.,  0.,  0.,\n",
       "         0.,  0.,  0.,  0.,  0.,  0.,  0.,  0.,  0.,  0.,  0.,  0.,  0.,\n",
       "         0.,  0.,  0.,  0.,  0.,  0.,  0.,  0.,  0.],\n",
       "       [10., 10., 10., 10., 10., 10., 10., 10., 10., 10., 10., 10., 10.,\n",
       "        10., 10., 10., 10., 10., 10., 10., 10., 10., 10., 10., 10., 10.,\n",
       "        10., 10., 10., 10., 10., 10., 10., 10., 10., 10., 10., 10., 10.,\n",
       "        10., 10., 10., 10., 10., 10., 10., 10., 10., 10., 10., 10., 10.,\n",
       "        10., 10., 10., 10., 10., 10., 10., 10., 10., 10., 10., 10., 10.,\n",
       "        10., 10., 10., 10., 10., 10., 10., 10., 10., 10., 10., 10., 10.,\n",
       "        10., 10., 10., 10., 10., 10., 10., 10., 10., 10., 10., 10., 10.,\n",
       "        10., 10., 10., 10., 10., 10., 10., 10., 10.],\n",
       "       [ 5.,  5.,  5.,  5.,  5.,  5.,  5.,  5.,  5.,  5.,  5.,  5.,  5.,\n",
       "         5.,  5.,  5.,  5.,  5.,  5.,  5.,  5.,  5.,  5.,  5.,  5.,  5.,\n",
       "         5.,  5.,  5.,  5.,  5.,  5.,  5.,  5.,  5.,  5.,  5.,  5.,  5.,\n",
       "         5.,  5.,  5.,  5.,  5.,  5.,  5.,  5.,  5.,  5.,  5.,  5.,  5.,\n",
       "         5.,  5.,  5.,  5.,  5.,  5.,  5.,  5.,  5.,  5.,  5.,  5.,  5.,\n",
       "         5.,  5.,  5.,  5.,  5.,  5.,  5.,  5.,  5.,  5.,  5.,  5.,  5.,\n",
       "         5.,  5.,  5.,  5.,  5.,  5.,  5.,  5.,  5.,  5.,  5.,  5.,  5.,\n",
       "         5.,  5.,  5.,  5.,  5.,  5.,  5.,  5.,  5.]])"
      ]
     },
     "execution_count": 6,
     "metadata": {},
     "output_type": "execute_result"
    }
   ],
   "source": [
    "# Generate cluster centers\"\n",
    "# x = sample_spherical(k, d).T\n",
    "# x = np.empty((0, d))\n",
    "# for i in range(k): \n",
    "#     x = np.vstack((x, sample_spherical(1, d).T))\n",
    "\n",
    "alpha=10\n",
    "\n",
    "x = alpha*np.zeros((1, d))\n",
    "x = np.vstack((x, alpha*(np.zeros((1, d)) + 1)))\n",
    "x = np.vstack((x, alpha*(np.zeros((1, d)) + 0.5)))\n",
    "x  \n",
    "           \n",
    "# p = 0.5\n",
    "# x = np.empty((0, d))\n",
    "# x = np.vstack((x, np.random.choice([1, 0, -1], size=(len(n), d), p=[p, (1-p)/2., (1-p)/2.])))\n",
    "# x"
   ]
  },
  {
   "cell_type": "code",
   "execution_count": 7,
   "metadata": {},
   "outputs": [
    {
     "name": "stderr",
     "output_type": "stream",
     "text": [
      "100%|██████████| 3/3 [00:00<00:00, 8019.70it/s]\n"
     ]
    }
   ],
   "source": [
    "# Compute pairwise distances\n",
    "distances = np.zeros((k, k))\n",
    "for i in tqdm(range(k)):\n",
    "    for j in range(k):\n",
    "        distances[i,j] = np.linalg.norm(x[i]-x[j])"
   ]
  },
  {
   "cell_type": "code",
   "execution_count": 8,
   "metadata": {},
   "outputs": [
    {
     "data": {
      "text/plain": [
       "array([[  0., 100.,  50.],\n",
       "       [100.,   0.,  50.],\n",
       "       [ 50.,  50.,   0.]])"
      ]
     },
     "execution_count": 8,
     "metadata": {},
     "output_type": "execute_result"
    }
   ],
   "source": [
    "distances"
   ]
  },
  {
   "cell_type": "code",
   "execution_count": 231,
   "metadata": {},
   "outputs": [],
   "source": [
    "# Add outlier as average of cluster centers\n",
    "x = np.vstack((x, np.mean(x, axis=0)))\n",
    "\n",
    "# Add outlier as weighted average of cluster centers\n",
    "# weights = [0.1, 0.5, 0.2, 0.2]\n",
    "# x = np.vstack((x, np.average(x, axis=0, weights=weights)))\n",
    "\n",
    "# Add outlier as random point\n",
    "# x = np.vstack((x, sample_spherical(1, d).T))"
   ]
  },
  {
   "cell_type": "code",
   "execution_count": 232,
   "metadata": {},
   "outputs": [
    {
     "name": "stderr",
     "output_type": "stream",
     "text": [
      "100%|██████████| 4/4 [00:00<00:00, 6450.29it/s]\n"
     ]
    }
   ],
   "source": [
    "# Compute pairwise distances\n",
    "distancesOut = np.zeros((k+1, k+1))\n",
    "for i in tqdm(range(k+1)):\n",
    "    for j in range(k+1):\n",
    "        distancesOut[i,j] = np.linalg.norm(x[i]-x[j])"
   ]
  },
  {
   "cell_type": "code",
   "execution_count": 233,
   "metadata": {},
   "outputs": [
    {
     "data": {
      "text/plain": [
       "array([[  0., 100.,  50.,  50.],\n",
       "       [100.,   0.,  50.,  50.],\n",
       "       [ 50.,  50.,   0.,   0.],\n",
       "       [ 50.,  50.,   0.,   0.]])"
      ]
     },
     "execution_count": 233,
     "metadata": {},
     "output_type": "execute_result"
    }
   ],
   "source": [
    "distancesOut"
   ]
  },
  {
   "cell_type": "code",
   "execution_count": 9,
   "metadata": {},
   "outputs": [],
   "source": [
    "# Create data Y = X + E\n",
    "sigma = 2\n",
    "Y = np.empty((0, d))\n",
    "p = 0.3\n",
    "for i in range(k): \n",
    "    for j in range(n[i]):\n",
    "        # Y = np.vstack((Y, x[i] + np.random.normal(0, sigma, d)))\n",
    "        point = x[i] + np.random.choice([50, 0, -50], size=(1, d), p=[(1-p)/2., p, (1-p)/2.])\n",
    "        Y = np.vstack((Y, point))"
   ]
  },
  {
   "cell_type": "code",
   "execution_count": 10,
   "metadata": {},
   "outputs": [
    {
     "data": {
      "text/plain": [
       "array([[ 50., -50.,   0., ...,  50., -50., -50.],\n",
       "       [  0.,   0., -50., ...,  50., -50.,  50.],\n",
       "       [  0.,  50.,  50., ..., -50.,  50.,  50.],\n",
       "       ...,\n",
       "       [  5.,  55., -45., ..., -45.,  55.,   5.],\n",
       "       [ 55.,   5., -45., ...,  55.,  55.,   5.],\n",
       "       [ 55.,   5.,  55., ...,  55., -45.,   5.]])"
      ]
     },
     "execution_count": 10,
     "metadata": {},
     "output_type": "execute_result"
    }
   ],
   "source": [
    "Y[100:]"
   ]
  },
  {
   "cell_type": "code",
   "execution_count": 188,
   "metadata": {},
   "outputs": [
    {
     "name": "stdout",
     "output_type": "stream",
     "text": [
      "[11.80830784 11.80127469 11.7873195 ]\n",
      "[620.49609544 983.30775832 436.46849993]\n"
     ]
    }
   ],
   "source": [
    "avg_intracluster_dist = np.zeros(k)\n",
    "avg_intercluster_dist = np.zeros(k)\n",
    "for i in range(k):\n",
    "    before = sum(n[:i])\n",
    "\n",
    "    for j in range(before, before + n[i]): \n",
    "        for l in range(before, before + n[i]):\n",
    "            if j == l: \n",
    "                continue \n",
    "            avg_intracluster_dist[i] += np.linalg.norm(Y[j] - Y[l])\n",
    "    \n",
    "        t1 = range(before, before + n[i])\n",
    "        t2 = range(Y.shape[0])\n",
    "        t3 = set(t2).difference(set(t1))\n",
    "\n",
    "        for l in list(t3):\n",
    "            avg_intercluster_dist[i] += np.linalg.norm(Y[j] - Y[l])\n",
    "\n",
    "for i in range(k):\n",
    "    avg_intracluster_dist[i] /= (n[i] * (n[i] - 1))\n",
    "    avg_intercluster_dist[i] /= ((sum(n) - n[i]) * n[i])\n",
    "\n",
    "print(avg_intracluster_dist)\n",
    "print(avg_intercluster_dist)"
   ]
  },
  {
   "cell_type": "code",
   "execution_count": 11,
   "metadata": {},
   "outputs": [],
   "source": [
    "# Add small number of outliers based on outlier center\n",
    "# on = 10\n",
    "# for i in range(on): \n",
    "#     Y = np.vstack((Y, x[k] + np.random.normal(0, sigma, d)))\n",
    "\n",
    "# Outliers on the surface of a sphere\n",
    "on = 10\n",
    "# outliers = sample_spherical(on, d).T\n",
    "for i in range(on): \n",
    "    outlier = sample_spherical(1, d).T\n",
    "    Y = np.vstack((Y, outlier))\n"
   ]
  },
  {
   "cell_type": "code",
   "execution_count": 12,
   "metadata": {},
   "outputs": [],
   "source": [
    "l2_points = [Y[0], Y[1000], Y[1750]]\n",
    "for i in range(2250, 2260): \n",
    "    l2_points.append(Y[i])"
   ]
  },
  {
   "cell_type": "code",
   "execution_count": 13,
   "metadata": {},
   "outputs": [
    {
     "name": "stdout",
     "output_type": "stream",
     "text": [
      "441.5880433163923\n",
      "435.3159771935783\n",
      "406.81691213615983\n",
      "94.99999999999999\n",
      "423.0\n",
      "377.0\n",
      "391.0\n",
      "378.0\n",
      "415.00000000000006\n",
      "233.00000000000003\n",
      "370.0\n",
      "232.99999999999997\n",
      "342.0\n"
     ]
    }
   ],
   "source": [
    "l2_points = np.array(l2_points)\n",
    "dist_l2 = np.linalg.norm(l2_points)\n",
    "\n",
    "for i in l2_points: \n",
    "    print(np.linalg.norm(i))\n",
    "\n",
    "# for i in range(len(l2_points)): \n",
    "#     for j in range(len(l2_points)):\n",
    "#         dist_l2[i,j] = np.linalg.norm(l2_points[i]-l2_points[j])\n",
    "\n",
    "# print(dist_l2)"
   ]
  },
  {
   "cell_type": "code",
   "execution_count": 14,
   "metadata": {},
   "outputs": [],
   "source": [
    "totalPoints = sum(n) + 10"
   ]
  },
  {
   "cell_type": "code",
   "execution_count": 15,
   "metadata": {},
   "outputs": [
    {
     "data": {
      "text/plain": [
       "array([[-50.        , -50.        ,  50.        , ...,  50.        ,\n",
       "         50.        ,  50.        ],\n",
       "       [ 50.        ,  50.        , -50.        , ...,  50.        ,\n",
       "          0.        , -50.        ],\n",
       "       [  0.        , -50.        ,  50.        , ...,   0.        ,\n",
       "         50.        ,   0.        ],\n",
       "       ...,\n",
       "       [-20.81176583,  26.25087269, -26.50035465, ..., -51.91946792,\n",
       "         92.63778905, -54.14809399],\n",
       "       [ 24.08927564,  -0.99143165, -20.04614041, ...,  13.94971719,\n",
       "          7.036582  ,   3.31127339],\n",
       "       [-22.50847363, -29.73801907,  13.09731475, ...,   7.79782664,\n",
       "          2.1845227 ,  17.78361466]])"
      ]
     },
     "execution_count": 15,
     "metadata": {},
     "output_type": "execute_result"
    }
   ],
   "source": [
    "Y"
   ]
  },
  {
   "cell_type": "code",
   "execution_count": 16,
   "metadata": {},
   "outputs": [
    {
     "data": {
      "text/plain": [
       "2260"
      ]
     },
     "execution_count": 16,
     "metadata": {},
     "output_type": "execute_result"
    }
   ],
   "source": [
    "len(Y)"
   ]
  },
  {
   "cell_type": "code",
   "execution_count": 17,
   "metadata": {},
   "outputs": [
    {
     "name": "stderr",
     "output_type": "stream",
     "text": [
      "100%|██████████| 2260/2260 [00:08<00:00, 252.17it/s]\n"
     ]
    }
   ],
   "source": [
    "# Compute Euclidean distance matrix between each point\n",
    "D_pre = np.zeros((totalPoints, totalPoints))\n",
    "for i in tqdm(range(totalPoints)):\n",
    "    for j in range(totalPoints):\n",
    "        D_pre[i, j] = np.linalg.norm(Y[i] - Y[j])"
   ]
  },
  {
   "cell_type": "code",
   "execution_count": 18,
   "metadata": {},
   "outputs": [],
   "source": [
    "D_pre_util = get_distance_matrix(Y)"
   ]
  },
  {
   "cell_type": "code",
   "execution_count": 19,
   "metadata": {},
   "outputs": [
    {
     "data": {
      "text/plain": [
       "array([[  0.        , 634.42887702, 618.46584384, ..., 584.54075417,\n",
       "        488.5853348 , 507.4085646 ],\n",
       "       [634.42887702,   0.        , 648.07406984, ..., 563.24130035,\n",
       "        463.32430575, 509.49804755],\n",
       "       [618.46584384, 648.07406984,   0.        , ..., 532.51006829,\n",
       "        512.63484286, 572.16661612],\n",
       "       ...,\n",
       "       [584.54075417, 563.24130035, 532.51006829, ...,   0.        ,\n",
       "        440.17897132, 508.41543754],\n",
       "       [488.5853348 , 463.32430575, 512.63484286, ..., 440.17897132,\n",
       "          0.        , 434.46791608],\n",
       "       [507.4085646 , 509.49804755, 572.16661612, ..., 508.41543754,\n",
       "        434.46791608,   0.        ]])"
      ]
     },
     "execution_count": 19,
     "metadata": {},
     "output_type": "execute_result"
    }
   ],
   "source": [
    "D_pre"
   ]
  },
  {
   "cell_type": "code",
   "execution_count": 20,
   "metadata": {},
   "outputs": [],
   "source": [
    "components = 4\n",
    "pca = PCA(n_components=components)\n",
    "pca.fit(Y)\n",
    "Y_pca = pca.transform(Y)"
   ]
  },
  {
   "cell_type": "code",
   "execution_count": 21,
   "metadata": {},
   "outputs": [
    {
     "data": {
      "text/plain": [
       "array([[ -31.31237037, -101.54932745,  -40.35616506,   -4.12333116],\n",
       "       [   0.35136712,   42.86121058,    4.21193765,   31.85360846],\n",
       "       [ -45.26922548,  -46.03757893,   -9.64883754,  -46.03294158],\n",
       "       ...,\n",
       "       [ -16.79097908,   40.52618621,   -1.93877869,  -27.89523446],\n",
       "       [ -85.30901283,  -27.78901772,  -16.43244023,  -49.27361851],\n",
       "       [ -19.20422876,   -4.97510651,    6.56568201,   22.28077271]])"
      ]
     },
     "execution_count": 21,
     "metadata": {},
     "output_type": "execute_result"
    }
   ],
   "source": [
    "Y_pca"
   ]
  },
  {
   "cell_type": "code",
   "execution_count": 23,
   "metadata": {},
   "outputs": [
    {
     "name": "stderr",
     "output_type": "stream",
     "text": [
      "100%|██████████| 2260/2260 [00:11<00:00, 198.57it/s]\n"
     ]
    }
   ],
   "source": [
    "# Compute Euclidean distance matrix between each point post PCA\n",
    "D_post = np.zeros((totalPoints, totalPoints))\n",
    "for i in tqdm(range(totalPoints)):\n",
    "    for j in range(totalPoints):\n",
    "        D_post[i, j] = np.linalg.norm(Y_pca[i] - Y_pca[j])"
   ]
  },
  {
   "cell_type": "code",
   "execution_count": 22,
   "metadata": {},
   "outputs": [],
   "source": [
    "D_post = get_distance_matrix(Y_pca)"
   ]
  },
  {
   "cell_type": "code",
   "execution_count": 23,
   "metadata": {},
   "outputs": [
    {
     "data": {
      "text/plain": [
       "array([[  0.        , 158.54857846,  77.3026742 , ..., 149.79092546,\n",
       "        104.7239884 , 111.22959893],\n",
       "       [158.54857846,   0.        , 127.44673009, ...,  62.50654297,\n",
       "        139.05744405,  52.6109671 ],\n",
       "       [ 77.3026742 , 127.44673009,   0.        , ...,  93.23474341,\n",
       "         44.63982313,  85.41185456],\n",
       "       ...,\n",
       "       [149.79092546,  62.50654297,  93.23474341, ...,   0.        ,\n",
       "        100.14384437,  68.30921578],\n",
       "       [104.7239884 , 139.05744405,  44.63982313, ..., 100.14384437,\n",
       "          0.        , 102.66090566],\n",
       "       [111.22959893,  52.6109671 ,  85.41185456, ...,  68.30921578,\n",
       "        102.66090566,   0.        ]])"
      ]
     },
     "execution_count": 23,
     "metadata": {},
     "output_type": "execute_result"
    }
   ],
   "source": [
    "D_post"
   ]
  },
  {
   "cell_type": "code",
   "execution_count": 27,
   "metadata": {},
   "outputs": [
    {
     "data": {
      "text/plain": [
       "array([[ 0.        , 55.25853077, 76.17191496, ..., 46.1558036 ,\n",
       "        66.72340041, 50.42629763],\n",
       "       [55.25853077,  0.        , 97.09402597, ..., 34.91195272,\n",
       "        75.38144397, 31.62205541],\n",
       "       [76.17191496, 97.09402597,  0.        , ..., 69.89925833,\n",
       "        56.82166229, 75.65488787],\n",
       "       ...,\n",
       "       [46.1558036 , 34.91195272, 69.89925833, ...,  0.        ,\n",
       "        52.50908131,  7.35317195],\n",
       "       [66.72340041, 75.38144397, 56.82166229, ..., 52.50908131,\n",
       "         0.        , 53.50070376],\n",
       "       [50.42629763, 31.62205541, 75.65488787, ...,  7.35317195,\n",
       "        53.50070376,  0.        ]])"
      ]
     },
     "execution_count": 27,
     "metadata": {},
     "output_type": "execute_result"
    }
   ],
   "source": [
    "D_post_util"
   ]
  },
  {
   "cell_type": "code",
   "execution_count": 24,
   "metadata": {},
   "outputs": [
    {
     "name": "stderr",
     "output_type": "stream",
     "text": [
      "/var/folders/p0/nb5t36rs6p5_2b9yzyw6y8hw0000gn/T/ipykernel_4831/2875983867.py:1: RuntimeWarning: invalid value encountered in divide\n",
      "  C = D_pre / D_post\n"
     ]
    }
   ],
   "source": [
    "C = D_pre / D_post"
   ]
  },
  {
   "cell_type": "code",
   "execution_count": 25,
   "metadata": {},
   "outputs": [
    {
     "data": {
      "text/plain": [
       "array([[        nan,  4.00147944,  8.00057502, ...,  3.90237761,\n",
       "         4.66545767,  4.56181241],\n",
       "       [ 4.00147944,         nan,  5.08505843, ...,  9.01091748,\n",
       "         3.33189143,  9.6842555 ],\n",
       "       [ 8.00057502,  5.08505843,         nan, ...,  5.71149819,\n",
       "        11.48380094,  6.69891339],\n",
       "       ...,\n",
       "       [ 3.90237761,  9.01091748,  5.71149819, ...,         nan,\n",
       "         4.39546708,  7.44285279],\n",
       "       [ 4.66545767,  3.33189143, 11.48380094, ...,  4.39546708,\n",
       "                nan,  4.23206783],\n",
       "       [ 4.56181241,  9.6842555 ,  6.69891339, ...,  7.44285279,\n",
       "         4.23206783,         nan]])"
      ]
     },
     "execution_count": 25,
     "metadata": {},
     "output_type": "execute_result"
    }
   ],
   "source": [
    "C"
   ]
  },
  {
   "cell_type": "code",
   "execution_count": 26,
   "metadata": {},
   "outputs": [],
   "source": [
    "cluster_sizes = n + [on]\n",
    "avg_intracluster_compression = np.zeros(k + 1)\n",
    "avg_intercluster_compression = np.zeros(k + 1)\n",
    "for i in range(k + 1):\n",
    "    before = sum(cluster_sizes[:i])\n",
    "\n",
    "    for j in range(before, before + cluster_sizes[i]): \n",
    "        for l in range(before, before + cluster_sizes[i]):\n",
    "            if j == l: \n",
    "                continue \n",
    "            avg_intracluster_compression[i] += C[j, l]\n",
    "    \n",
    "        t1 = range(before, before + cluster_sizes[i])\n",
    "        t2 = range(Y.shape[0])\n",
    "        t3 = set(t2).difference(set(t1))\n",
    "\n",
    "        for l in list(t3):\n",
    "            avg_intercluster_compression[i] += C[j, l]\n",
    "\n",
    "for i in range(k + 1):\n",
    "    avg_intracluster_compression[i] /= ((cluster_sizes[i] * (cluster_sizes[i] - 1)) / 2)\n",
    "    avg_intercluster_compression[i] /= (cluster_sizes[i] * (len(Y) - cluster_sizes[i]))"
   ]
  },
  {
   "cell_type": "code",
   "execution_count": 27,
   "metadata": {},
   "outputs": [
    {
     "data": {
      "text/plain": [
       "array([4.58582729, 4.51601432, 5.10852707, 5.24351963])"
      ]
     },
     "execution_count": 27,
     "metadata": {},
     "output_type": "execute_result"
    }
   ],
   "source": [
    "avg_intercluster_compression"
   ]
  },
  {
   "cell_type": "code",
   "execution_count": 28,
   "metadata": {},
   "outputs": [
    {
     "data": {
      "text/plain": [
       "array([10.7957197 , 10.67976928, 11.1471021 , 14.65613869])"
      ]
     },
     "execution_count": 28,
     "metadata": {},
     "output_type": "execute_result"
    }
   ],
   "source": [
    "avg_intracluster_compression"
   ]
  },
  {
   "cell_type": "code",
   "execution_count": 29,
   "metadata": {},
   "outputs": [
    {
     "name": "stdout",
     "output_type": "stream",
     "text": [
      "[1000, 750, 500, 10]\n"
     ]
    }
   ],
   "source": [
    "print(cluster_sizes)"
   ]
  },
  {
   "cell_type": "code",
   "execution_count": 50,
   "metadata": {},
   "outputs": [],
   "source": [
    "from utils import get_average_compression"
   ]
  },
  {
   "cell_type": "code",
   "execution_count": 58,
   "metadata": {},
   "outputs": [],
   "source": [
    "def gac(c, cs, a): \n",
    "    \"\"\"\n",
    "    Compute the average intracluster and intercluster compression for a set of points.\n",
    "    :param C: numpy array of pairwise compression ratios (n_samples, n_samples)\n",
    "    :param cluster_sizes: array of cluster sizes\n",
    "    :param k: number of clusters (including outlier \"cluster\")\n",
    "    \"\"\"\n",
    "    aintac = np.zeros(a)\n",
    "    aintec = np.zeros(a)\n",
    "    for i in range(a):\n",
    "        before = sum(cs[:i])\n",
    "\n",
    "        for j in range(before, before + cs[i]): \n",
    "            for l in range(before, before + cs[i]):\n",
    "                if j == l: \n",
    "                    continue \n",
    "                aintac[i] += c[j, l]\n",
    "        \n",
    "            t1 = range(before, before + cs[i])\n",
    "            t2 = range(c.shape[0])\n",
    "            t3 = set(t2).difference(set(t1))\n",
    "\n",
    "            for l in list(t3):\n",
    "                aintec[i] += c[j, l]\n",
    "\n",
    "    for i in range(a):\n",
    "        aintac[i] /= ((cs[i] * (cs[i] - 1)) / 2)\n",
    "        aintec[i] /= (cs[i] * (len(C) - cs[i]))\n",
    "    \n",
    "    return aintec, aintac"
   ]
  },
  {
   "cell_type": "code",
   "execution_count": 63,
   "metadata": {},
   "outputs": [],
   "source": [
    "from utils import get_average_compression"
   ]
  },
  {
   "cell_type": "code",
   "execution_count": 30,
   "metadata": {},
   "outputs": [],
   "source": [
    "avg_inter_util, avg_intra_util = get_average_compression(C, cluster_sizes, k + 1)"
   ]
  },
  {
   "cell_type": "code",
   "execution_count": 31,
   "metadata": {},
   "outputs": [
    {
     "data": {
      "text/plain": [
       "array([4.58582729, 4.51601432, 5.10852707, 5.24351963])"
      ]
     },
     "execution_count": 31,
     "metadata": {},
     "output_type": "execute_result"
    }
   ],
   "source": [
    "avg_inter_util"
   ]
  },
  {
   "cell_type": "code",
   "execution_count": null,
   "metadata": {},
   "outputs": [],
   "source": [
    "## TODO: \n",
    "# 1. Add outliers to single cell datasets, ex. n = 2000, 20 outliers. Show that outlier compressibility is very bad compared to this clusters\n",
    "#### - Modify centers, noise to create artificial outliers with bad compressibility compared to clusters \n",
    "#### - Do the same thing with single cell\n",
    "\n",
    "\n",
    "\n",
    "# For each outlier point, randomly sample point from each cluster, and compute average "
   ]
  }
 ],
 "metadata": {
  "kernelspec": {
   "display_name": "venv",
   "language": "python",
   "name": "python3"
  },
  "language_info": {
   "codemirror_mode": {
    "name": "ipython",
    "version": 3
   },
   "file_extension": ".py",
   "mimetype": "text/x-python",
   "name": "python",
   "nbconvert_exporter": "python",
   "pygments_lexer": "ipython3",
   "version": "3.10.0"
  },
  "orig_nbformat": 4
 },
 "nbformat": 4,
 "nbformat_minor": 2
}
