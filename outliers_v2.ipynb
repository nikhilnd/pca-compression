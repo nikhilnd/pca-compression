{
 "cells": [
  {
   "cell_type": "code",
   "execution_count": 32,
   "metadata": {},
   "outputs": [
    {
     "name": "stdout",
     "output_type": "stream",
     "text": [
      "The autoreload extension is already loaded. To reload it, use:\n",
      "  %reload_ext autoreload\n"
     ]
    }
   ],
   "source": [
    "%load_ext autoreload\n",
    "%autoreload 2\n",
    "\n",
    "import pandas as pd\n",
    "import numpy as np\n",
    "from sklearn.decomposition import PCA\n",
    "from utils import get_distance_matrix, get_average_compression, sample_spherical, compression_grouping\n",
    "from matplotlib import pyplot as plt\n",
    "from plots import *"
   ]
  },
  {
   "cell_type": "code",
   "execution_count": 130,
   "metadata": {},
   "outputs": [],
   "source": [
    "# Number of clusters (excl. outliers)\n",
    "k = 4\n",
    "\n",
    "# Points per cluster (excl. outliers)\n",
    "n = [500] * k\n",
    "\n",
    "# Number of dimensions\n",
    "d = 100\n",
    "\n",
    "# Number of outliers\n",
    "o = 10\n",
    "\n",
    "# Cluster sizes\n",
    "cluster_sizes = n + [o]\n",
    "\n",
    "# Total clusters\n",
    "k_total = k + (1 if o > 0 else 0)"
   ]
  },
  {
   "cell_type": "code",
   "execution_count": 194,
   "metadata": {},
   "outputs": [],
   "source": [
    "\"\"\"\n",
    "Generate cluster centers for non-outliers: \n",
    "1. Fixed clusters at (0, 0, ..., 0), (0.5, 0.5, ..., 0.5), and (1, 1, ..., 1) with some alpha\n",
    "2. Different spheres with some radius \n",
    "\"\"\"\n",
    "\n",
    "# 1:\n",
    "alpha = 5\n",
    "# delta = 0.5\n",
    "# x = alpha * np.zeros((1, d))\n",
    "\n",
    "# while x.shape[0] < k: \n",
    "#     x = np.vstack((x, alpha * (np.zeros((1, d)) + delta)))\n",
    "#     delta += 0.5\n",
    "\n",
    "zero = np.zeros((1, d))\n",
    "x = np.empty((0, d))\n",
    "# C1 = first half 0, second half 1\n",
    "half = np.zeros((1, ((3 * d) // 5))) + 0.1\n",
    "half2 = np.zeros((1, d - ((3 * d) // 5))) + 1.1\n",
    "x = np.vstack((x, np.hstack((half, half2))))\n",
    "# C2 = first half 0.25, second half 0.75\n",
    "half = np.zeros((1, d // 2)) + 0.25\n",
    "half2 = np.zeros((1, d // 2)) + 0.75\n",
    "x = np.vstack((x, np.hstack((half, half2))))\n",
    "# C3 = first half 1, second half 0\n",
    "half = np.zeros((1, d // 2)) + 1\n",
    "half2 = np.zeros((1, d // 2))\n",
    "x = np.vstack((x, np.hstack((half, half2))))\n",
    "# C4 = \n",
    "one = np.zeros((1, d//3)) + 0.8 \n",
    "two = np.zeros((1, d//3)) + 0.2\n",
    "three = np.zeros((1, (d - 2*(d//3)))) + 0.6\n",
    "x = np.vstack((x, np.hstack((one, two, three))))\n",
    "\n",
    "x = x * alpha\n",
    "\n",
    "# Introduce some ranodom values to ensure Rank(x) = k\n",
    "# x = x + np.random.normal(0, 0.001, (k, d))\n",
    "\n",
    "# 2: \n",
    "# r_min = 10 \n",
    "# r_max = 50\n",
    "# x = np.empty((0, d))\n",
    "# for i in range(k): \n",
    "#     x = np.vstack((x, sample_spherical(1, d, r_min, r_max)))\n",
    "\n",
    "assert x.shape == (k, d)"
   ]
  },
  {
   "cell_type": "code",
   "execution_count": 195,
   "metadata": {},
   "outputs": [
    {
     "data": {
      "text/plain": [
       "4"
      ]
     },
     "execution_count": 195,
     "metadata": {},
     "output_type": "execute_result"
    }
   ],
   "source": [
    "np.linalg.matrix_rank(x)"
   ]
  },
  {
   "cell_type": "code",
   "execution_count": 196,
   "metadata": {},
   "outputs": [
    {
     "data": {
      "text/plain": [
       "array([[ 0.        , 16.00781059, 47.16990566, 27.29468813],\n",
       "       [16.00781059,  0.        , 37.5       , 19.7673974 ],\n",
       "       [47.16990566, 37.5       ,  0.        , 25.03996805],\n",
       "       [27.29468813, 19.7673974 , 25.03996805,  0.        ]])"
      ]
     },
     "execution_count": 196,
     "metadata": {},
     "output_type": "execute_result"
    }
   ],
   "source": [
    "D_centers = get_distance_matrix(x)\n",
    "D_centers"
   ]
  },
  {
   "cell_type": "code",
   "execution_count": 300,
   "metadata": {},
   "outputs": [],
   "source": [
    "\"\"\"\n",
    "Generate non-outlier data points: \n",
    "1. Bernoulli noise with some p \n",
    "2. Gaussian noise with some variance\n",
    "\"\"\"\n",
    "\n",
    "# 1: \n",
    "p = 0.3\n",
    "Y = np.zeros((0, d))\n",
    "noise_arr = []\n",
    "for i in range(k): \n",
    "    noise_idx = np.random.randint(0, n[i])\n",
    "    for j in range(n[i]):    \n",
    "        m = np.random.uniform(2, 6)\n",
    "        noise = np.random.choice([m, 0, -m], size=(1, d), p=[(1-p)/2., p, (1-p)/2.])\n",
    "        point = x[i] + noise\n",
    "        if j == noise_idx: \n",
    "            noise_arr.append(noise)\n",
    "        Y = np.vstack((Y, point))\n",
    "\n",
    "# 2:\n",
    "# sigma = 5\n",
    "# Y = np.zeros((0, d))\n",
    "# for i in range(k): \n",
    "#     for j in range(n[i]): \n",
    "#         point = x[i] + np.random.normal(0, sigma, size=(1, d))\n",
    "#         Y = np.vstack((Y, point))\n",
    "\n",
    "assert Y.shape == (sum(n), d)"
   ]
  },
  {
   "cell_type": "code",
   "execution_count": 301,
   "metadata": {},
   "outputs": [],
   "source": [
    "\"\"\"\n",
    "Generate outliers: \n",
    "1. Sample on different unit spheres with some random radius\n",
    "2. Average sample of one point from each cluster\n",
    "3. Randomly select two clusters and take a weighted average of one point from each\n",
    "\"\"\"\n",
    "\n",
    "# 1: \n",
    "# r_min = 30\n",
    "# r_max = 50\n",
    "\n",
    "# for i in range(o): \n",
    "#     outlier = sample_spherical(1, d, r_min, r_max)\n",
    "#     Y = np.vstack((Y, outlier))\n",
    "\n",
    "# 2: \n",
    "# for i in range(o): \n",
    "#     sample = []\n",
    "\n",
    "#     # Generate alpha values, summing to 1: \n",
    "#     a = np.random.dirichlet(np.ones(k), size=1)[0]\n",
    "#     for i in range(len(cluster_sizes) - 1): \n",
    "#         point_idx = np.random.randint(sum(cluster_sizes[:i]), sum(cluster_sizes[:i+1]))\n",
    "#         # point = Y[point_idx] + np.random.choice([5, 0, -5], size=(1, d), p=[(1-p)/2., p, (1-p)/2.])\n",
    "#         sample.append(Y[point_idx])\n",
    "#     point = [sample[j] * a[j] for j in range(len(sample))]\n",
    "#     Y = np.vstack((Y, sum(point)))\n",
    "\n",
    "# 3: \n",
    "for i in range(o): \n",
    "    clusters = np.random.choice(range(len(cluster_sizes) - 1), size=2, replace=False)\n",
    "    weight = np.random.uniform(0.4, 0.6)\n",
    "    sample = [\n",
    "        Y[np.random.randint(sum(cluster_sizes[:clusters[0]]), sum(cluster_sizes[:clusters[0]+1]))],\n",
    "        Y[np.random.randint(sum(cluster_sizes[:clusters[1]]), sum(cluster_sizes[:clusters[1]+1]))]\n",
    "    ]\n",
    "    point = (sample[0] * weight) + (sample[1] * (1 - weight))\n",
    "    Y = np.vstack((Y, point))\n",
    "\n",
    "\n",
    "assert Y.shape == (sum(cluster_sizes), d)"
   ]
  },
  {
   "cell_type": "code",
   "execution_count": 302,
   "metadata": {},
   "outputs": [],
   "source": [
    "\"\"\"\n",
    "Compute distance matrix\n",
    "\"\"\"\n",
    "\n",
    "D_pre = get_distance_matrix(Y)"
   ]
  },
  {
   "cell_type": "code",
   "execution_count": 303,
   "metadata": {},
   "outputs": [
    {
     "data": {
      "text/plain": [
       "(array([58.45242617, 55.13783349, 61.27472679, 54.13347023, 47.51816457]),\n",
       " array([49.07085066, 48.818958  , 48.25917085, 47.96251189, 38.97013424]))"
      ]
     },
     "execution_count": 303,
     "metadata": {},
     "output_type": "execute_result"
    }
   ],
   "source": [
    "\"\"\"\n",
    "Compare intra and inter cluster distances\n",
    "\"\"\"\n",
    "\n",
    "avg_intercluster_distance, avg_intracluster_distance = get_average_compression(D_pre, cluster_sizes, k_total)\n",
    "\n",
    "avg_intercluster_distance, avg_intracluster_distance"
   ]
  },
  {
   "cell_type": "code",
   "execution_count": 304,
   "metadata": {},
   "outputs": [
    {
     "name": "stdout",
     "output_type": "stream",
     "text": [
      "Non-outliers:\n",
      "[38.123599132228335, 43.3102698798803, 38.78060499747476, 53.0766889634479]\n",
      "Outliers:\n",
      "[36.161, 39.009, 31.436, 42.338, 32.25, 35.147, 48.032, 35.006, 35.566, 35.791]\n"
     ]
    }
   ],
   "source": [
    "\"\"\"\n",
    "Compare norms of outliers with sample of cluster points\n",
    "\"\"\"\n",
    "l2 = []\n",
    "for i in range(len(cluster_sizes) - 1): \n",
    "    point_idx = np.random.randint(sum(cluster_sizes[:i]), sum(cluster_sizes[:i+1]))\n",
    "    l2.append(np.linalg.norm(Y[point_idx]))\n",
    "\n",
    "print(\"Non-outliers:\")\n",
    "print(l2)\n",
    "\n",
    "l2_outliers = []\n",
    "for i in range(o): \n",
    "    idx = -1 * (i + 1)\n",
    "    dist = round(np.linalg.norm(Y[idx]), 3)\n",
    "    l2_outliers.append(dist)\n",
    "\n",
    "print(\"Outliers:\")\n",
    "print(l2_outliers)"
   ]
  },
  {
   "cell_type": "code",
   "execution_count": 305,
   "metadata": {},
   "outputs": [],
   "source": [
    "\"\"\"\n",
    "Compute PCA\n",
    "\"\"\"\n",
    "components = 3\n",
    "pca = PCA(n_components=components)\n",
    "pca.fit(Y)\n",
    "Y_pca = pca.transform(Y)\n",
    "\n",
    "\n",
    "assert Y_pca.shape == (sum(cluster_sizes), components)"
   ]
  },
  {
   "cell_type": "code",
   "execution_count": 306,
   "metadata": {},
   "outputs": [
    {
     "data": {
      "text/plain": [
       "array([322.58135559,  38.80937948,  31.6753456 ])"
      ]
     },
     "execution_count": 306,
     "metadata": {},
     "output_type": "execute_result"
    }
   ],
   "source": [
    "pca.explained_variance_"
   ]
  },
  {
   "cell_type": "code",
   "execution_count": 307,
   "metadata": {},
   "outputs": [
    {
     "data": {
      "text/plain": [
       "array([322.58135558,  38.79590264,  31.64920411,  17.95467441,\n",
       "        17.84695268,  17.63282433,  17.06508761,  17.03962241,\n",
       "        16.64980968,  16.2810009 ])"
      ]
     },
     "execution_count": 307,
     "metadata": {},
     "output_type": "execute_result"
    }
   ],
   "source": [
    "c2 = 10\n",
    "pca2 = PCA(n_components=c2)\n",
    "pca2.fit(Y)\n",
    "pca2.explained_variance_"
   ]
  },
  {
   "cell_type": "code",
   "execution_count": 308,
   "metadata": {},
   "outputs": [
    {
     "name": "stderr",
     "output_type": "stream",
     "text": [
      "/var/folders/p0/nb5t36rs6p5_2b9yzyw6y8hw0000gn/T/ipykernel_1580/2171040057.py:5: RuntimeWarning:\n",
      "\n",
      "invalid value encountered in divide\n",
      "\n"
     ]
    }
   ],
   "source": [
    "\"\"\"\n",
    "Compute post PCA distances and compression matrix\n",
    "\"\"\"\n",
    "D_post = get_distance_matrix(Y_pca)\n",
    "C = D_pre / D_post"
   ]
  },
  {
   "cell_type": "code",
   "execution_count": 309,
   "metadata": {},
   "outputs": [
    {
     "data": {
      "text/plain": [
       "(array([2.18628744, 2.44772007, 1.73429363, 2.26882707, 2.77832412]),\n",
       " array([7.69486272, 7.52462297, 7.51355091, 7.77213822, 3.19059763]))"
      ]
     },
     "execution_count": 309,
     "metadata": {},
     "output_type": "execute_result"
    }
   ],
   "source": [
    "\"\"\"\n",
    "Compute average inter and intra cluster compression\n",
    "\"\"\"\n",
    "avg_intercluster_compression, avg_intracluster_compression = get_average_compression(C, cluster_sizes, k_total)\n",
    "avg_intercluster_compression, avg_intracluster_compression"
   ]
  },
  {
   "cell_type": "code",
   "execution_count": 310,
   "metadata": {},
   "outputs": [],
   "source": [
    "cgraph = compression_grouping(C, cluster_sizes)"
   ]
  },
  {
   "cell_type": "code",
   "execution_count": 311,
   "metadata": {},
   "outputs": [],
   "source": [
    "cgraph = cgraph[::-1]"
   ]
  },
  {
   "cell_type": "code",
   "execution_count": 312,
   "metadata": {},
   "outputs": [
    {
     "data": {
      "image/png": "[encoded data removed]",
      "text/plain": [
       "<Figure size 1200x800 with 1 Axes>"
      ]
     },
     "metadata": {},
     "output_type": "display_data"
    }
   ],
   "source": [
    "step_size = 100\n",
    "index = list(range(0, len(cgraph), step_size))\n",
    "\n",
    "plt.figure(figsize=(12,8))\n",
    "# Plot values from test colored if inter or intra cluster, x axis is index\n",
    "plt.scatter(index, cgraph[index, 0], c=cgraph[index, 1])\n",
    "# Set vertical scale to be logarithmic\n",
    "plt.yscale('log')\n",
    "plt.show()"
   ]
  },
  {
   "cell_type": "code",
   "execution_count": 313,
   "metadata": {},
   "outputs": [],
   "source": [
    "curr = 0\n",
    "prop = []\n",
    "for i in range(len(cgraph)): \n",
    "    if cgraph[i, 1] != 0: \n",
    "        curr += 1\n",
    "    prop.append(curr / (i + 1))"
   ]
  },
  {
   "cell_type": "code",
   "execution_count": 319,
   "metadata": {},
   "outputs": [
    {
     "data": {
      "image/png": "[encoded data removed]",
      "text/plain": [
       "<Figure size 1200x800 with 1 Axes>"
      ]
     },
     "metadata": {},
     "output_type": "display_data"
    }
   ],
   "source": [
    "plt.figure(figsize=(12,8))\n",
    "# Plot values from test colored if inter or intra cluster, x axis is index\n",
    "plt.plot(range(len(prop)), prop)\n",
    "# Set vertical scale to be logarithmic\n",
    "# plt.yscale('log')\n",
    "plt.show()"
   ]
  },
  {
   "cell_type": "code",
   "execution_count": 315,
   "metadata": {},
   "outputs": [],
   "source": [
    "noise_norm = [np.linalg.norm(noise_arr[i]) for i in range(len(noise_arr))]"
   ]
  },
  {
   "cell_type": "code",
   "execution_count": 316,
   "metadata": {},
   "outputs": [
    {
     "data": {
      "text/plain": [
       "[47.29341861445219, 35.859285763476706, 47.62040131400408, 26.33376486383604]"
      ]
     },
     "execution_count": 316,
     "metadata": {},
     "output_type": "execute_result"
    }
   ],
   "source": [
    "noise_norm"
   ]
  },
  {
   "cell_type": "code",
   "execution_count": 46,
   "metadata": {},
   "outputs": [
    {
     "data": {
      "text/plain": [
       "[0.2654650386620251,\n",
       " 49.94846657151208,\n",
       " 99.986403017561,\n",
       " 150.01338666262598,\n",
       " 199.97891653110605,\n",
       " 249.9963414101816]"
      ]
     },
     "execution_count": 46,
     "metadata": {},
     "output_type": "execute_result"
    }
   ],
   "source": [
    "norms = []\n",
    "for i in range(len(cluster_sizes) - 1): \n",
    "    point_idx = np.random.randint(sum(cluster_sizes[:i]), sum(cluster_sizes[:i+1]))\n",
    "    norms.append(np.linalg.norm(Y[point_idx]))\n",
    "\n",
    "norms"
   ]
  },
  {
   "cell_type": "code",
   "execution_count": 16,
   "metadata": {},
   "outputs": [
    {
     "data": {
      "text/plain": [
       "array([ 1.00000062,  1.00000064,  1.00000065, ..., 22.6477368 ,\n",
       "       30.42800982, 31.31410374])"
      ]
     },
     "execution_count": 16,
     "metadata": {},
     "output_type": "execute_result"
    }
   ],
   "source": [
    "cgraph[:, 0]"
   ]
  },
  {
   "cell_type": "code",
   "execution_count": 17,
   "metadata": {},
   "outputs": [
    {
     "data": {
      "text/plain": [
       "range(0, 180300)"
      ]
     },
     "execution_count": 17,
     "metadata": {},
     "output_type": "execute_result"
    }
   ],
   "source": [
    "range(len(cgraph))"
   ]
  },
  {
   "cell_type": "code",
   "execution_count": null,
   "metadata": {},
   "outputs": [],
   "source": [
    "showPlot(list(range(len(cgraph))), cgraph[:, 0], \"Compressibility\", cgraph[:, 1])"
   ]
  },
  {
   "cell_type": "code",
   "execution_count": 40,
   "metadata": {},
   "outputs": [],
   "source": [
    "# Add outliers to real datasets, similar approach\n",
    "# Ex. For each outliers choose 2 clusters randomly and mix them with some alpha (alpha 0.4-0.6)"
   ]
  },
  {
   "cell_type": "code",
   "execution_count": 14,
   "metadata": {},
   "outputs": [],
   "source": [
    "def cgraph(X, dim):\n",
    "    \"\"\"\n",
    "    Calculate PCA compressibility of all pairs of X\n",
    "    \"\"\"\n",
    "    pca = PCA(n_components=dim)\n",
    "    pca.fit(X)\n",
    "    X_pca = pca.transform(X)\n",
    "    D_pre = get_distance_matrix(X)\n",
    "    D_post = get_distance_matrix(X_pca)\n",
    "    C = D_pre / D_post\n",
    "\n",
    "    # Make n^2 x 2 matrix of all pairs of points with 0 if intercluster and 1 if intracluster\n",
    "    size = (len(C) * (len(C) - 1)) / 2\n",
    "    res = np.zeros((int(size), 2))\n",
    "    next = 0\n",
    "    for i in range(len(C)): \n",
    "        for j in range(i + 1, len(C)): \n",
    "\n",
    "            # Check if i and j are in the same cluster\n",
    "            if i // 1000 == j // 1000: \n",
    "                print(i, j)\n",
    "\n",
    "            res[next] = [C[i][j], 0 if i // 1000 == j // 1000 else 1]\n",
    "            next += 1\n",
    "    \n",
    "    return res"
   ]
  }
 ],
 "metadata": {
  "kernelspec": {
   "display_name": "venv",
   "language": "python",
   "name": "python3"
  },
  "language_info": {
   "codemirror_mode": {
    "name": "ipython",
    "version": 3
   },
   "file_extension": ".py",
   "mimetype": "text/x-python",
   "name": "python",
   "nbconvert_exporter": "python",
   "pygments_lexer": "ipython3",
   "version": "3.10.0"
  },
  "orig_nbformat": 4
 },
 "nbformat": 4,
 "nbformat_minor": 2
}
